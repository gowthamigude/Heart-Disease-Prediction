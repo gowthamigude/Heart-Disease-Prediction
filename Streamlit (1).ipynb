{
 "cells": [
  {
   "cell_type": "code",
   "execution_count": 1,
   "id": "b8bee90b",
   "metadata": {},
   "outputs": [
    {
     "name": "stdout",
     "output_type": "stream",
     "text": [
      "Overwriting app.py\n"
     ]
    }
   ],
   "source": [
    "%%writefile app.py\n",
    "import streamlit as st\n",
    "import pandas as pd\n",
    "import numpy as np\n",
    "from sklearn.preprocessing import StandardScaler\n",
    "from sklearn.ensemble import RandomForestClassifier\n",
    "\n",
    "# Set the title of the app\n",
    "st.title(\"Heart Disease Prediction App\")\n",
    "\n",
    "# Description of the app\n",
    "st.write(\"\"\"\n",
    "This app predicts whether a person has heart disease based on input features such as age, cholesterol, and blood pressure.\n",
    "\"\"\")\n",
    "\n",
    "# Input fields for the user to input data\n",
    "age = st.number_input(\"Enter Age\", min_value=1, max_value=120, value=30)\n",
    "sex = st.selectbox(\"Select Sex\", [\"Male\", \"Female\"])\n",
    "cholesterol = st.number_input(\"Enter Cholesterol Level\", min_value=0, max_value=600, value=200)\n",
    "blood_pressure = st.number_input(\"Enter Blood Pressure\", min_value=0, max_value=300, value=120)\n",
    "\n",
    "# Convert sex to numerical value (Male=1, Female=0)\n",
    "sex = 1 if sex == \"Male\" else 0\n",
    "\n",
    "# Create a DataFrame with the input data\n",
    "input_data = pd.DataFrame([[age, sex, cholesterol, blood_pressure]], columns=[\"age\", \"sex\", \"chol\", \"trestbps\"])\n",
    "\n",
    "# Train a simple model (for the sake of demonstration, use a dummy model here)\n",
    "model = RandomForestClassifier()\n",
    "model.fit(np.array([[50, 1, 250, 130]]), [1])  # Replace this with your actual model\n",
    "\n",
    "# Standardize the input data\n",
    "scaler = StandardScaler()\n",
    "input_data_scaled = scaler.fit_transform(input_data)\n",
    "\n",
    "# Make a prediction\n",
    "prediction = model.predict(input_data_scaled)\n",
    "\n",
    "# Display the prediction result\n",
    "if prediction == 1:\n",
    "    st.write(\"Prediction: Heart Disease Likely\")\n",
    "else:\n",
    "    st.write(\"Prediction: No Heart Disease\")\n"
   ]
  },
  {
   "cell_type": "code",
   "execution_count": null,
   "id": "ebd72584",
   "metadata": {},
   "outputs": [],
   "source": [
    "import subprocess\n",
    "\n",
    "# Run Streamlit app from Jupyter notebook using subprocess\n",
    "subprocess.run([\"streamlit\", \"run\", \"app.py\"])\n"
   ]
  },
  {
   "cell_type": "code",
   "execution_count": null,
   "id": "c0687739",
   "metadata": {},
   "outputs": [],
   "source": []
  }
 ],
 "metadata": {
  "kernelspec": {
   "display_name": "Python 3 (ipykernel)",
   "language": "python",
   "name": "python3"
  },
  "language_info": {
   "codemirror_mode": {
    "name": "ipython",
    "version": 3
   },
   "file_extension": ".py",
   "mimetype": "text/x-python",
   "name": "python",
   "nbconvert_exporter": "python",
   "pygments_lexer": "ipython3",
   "version": "3.10.9"
  }
 },
 "nbformat": 4,
 "nbformat_minor": 5
}
